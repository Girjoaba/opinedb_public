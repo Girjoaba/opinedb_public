{
  "nbformat": 4,
  "nbformat_minor": 0,
  "metadata": {
    "colab": {
      "name": "run_extractor.ipynb",
      "version": "0.3.2",
      "provenance": [],
      "collapsed_sections": []
    },
    "kernelspec": {
      "name": "python3",
      "display_name": "Python 3"
    },
    "accelerator": "GPU"
  },
  "cells": [
    {
      "cell_type": "markdown",
      "metadata": {
        "id": "jo9eIaI6_duS",
        "colab_type": "text"
      },
      "source": [
        "# Section 1: running the extraction pipeline\n",
        "\n",
        "## First, clone the OpineDB repos. \n",
        "\n",
        "You need to replace \"username\" and \"password\" in the http link with you github account and password (and remove it right after you run it for security)"
      ]
    },
    {
      "cell_type": "code",
      "metadata": {
        "id": "pwq9N8O_4ou4",
        "colab_type": "code",
        "colab": {}
      },
      "source": [
        "!git clone https://github.com/rit-git/opinedb_public.git"
      ],
      "execution_count": 0,
      "outputs": []
    },
    {
      "cell_type": "markdown",
      "metadata": {
        "id": "lHethJ027rgO",
        "colab_type": "text"
      },
      "source": [
        "## Download BERT and other packages"
      ]
    },
    {
      "cell_type": "code",
      "metadata": {
        "id": "DFq9Ghm37tqM",
        "colab_type": "code",
        "colab": {}
      },
      "source": [
        "!wget https://storage.googleapis.com/bert_models/2018_10_18/uncased_L-12_H-768_A-12.zip \n",
        "!unzip uncased_L-12_H-768_A-12.zip\n",
        "%cd opinedb_public/extractor"
      ],
      "execution_count": 0,
      "outputs": []
    },
    {
      "cell_type": "code",
      "metadata": {
        "id": "tFKhKtPK79aT",
        "colab_type": "code",
        "colab": {}
      },
      "source": [
        "!python -m spacy download en_core_web_sm\n",
        "!python -m nltk.downloader punkt\n",
        "!python -m nltk.downloader stopwords\n",
        "!pip install jsonlines\n",
        "!sudo apt-get install jq"
      ],
      "execution_count": 0,
      "outputs": []
    },
    {
      "cell_type": "markdown",
      "metadata": {
        "id": "mobiVV1N7gbQ",
        "colab_type": "text"
      },
      "source": [
        "## Train the models"
      ]
    },
    {
      "cell_type": "code",
      "metadata": {
        "id": "2OYu0cqt8yPw",
        "colab_type": "code",
        "colab": {}
      },
      "source": [
        "# classification\n",
        "!python code/train_classifier.py \\\n",
        "  ../../uncased_L-12_H-768_A-12 \\\n",
        "  models/classification/hotel_data \\\n",
        "  models/classification/hotel"
      ],
      "execution_count": 0,
      "outputs": []
    },
    {
      "cell_type": "code",
      "metadata": {
        "id": "lLqYtuDM7fWk",
        "colab_type": "code",
        "colab": {}
      },
      "source": [
        "# tagging\n",
        "!python code/train_tagging.py \\\n",
        "  ../../uncased_L-12_H-768_A-12 \\\n",
        "  models/tagging/hotel_data \\\n",
        "  models/tagging/hotel"
      ],
      "execution_count": 0,
      "outputs": []
    },
    {
      "cell_type": "code",
      "metadata": {
        "id": "neqpHByJ8z0l",
        "colab_type": "code",
        "colab": {}
      },
      "source": [
        "# pairing\n",
        "!python code/bert/run_classifier.py \\\n",
        "   --task_name=mrpc \\\n",
        "   --do_train=True \\\n",
        "   --do_eval=True \\\n",
        "   --do_predict=False \\\n",
        "   --data_dir=models/pairing/data \\\n",
        "   --vocab_file=../../uncased_L-12_H-768_A-12/vocab.txt \\\n",
        "   --bert_config_file=../../uncased_L-12_H-768_A-12/bert_config.json \\\n",
        "   --init_checkpoint=../../uncased_L-12_H-768_A-12/bert_model.ckpt \\\n",
        "   --max_seq_length=128 \\\n",
        "   --train_batch_size=16 \\\n",
        "   --learning_rate=2e-5 \\\n",
        "   --num_train_epochs=10.0 \\\n",
        "   --output_dir=models/pairing/model"
      ],
      "execution_count": 0,
      "outputs": []
    },
    {
      "cell_type": "markdown",
      "metadata": {
        "id": "FfsSx5rr9Lhm",
        "colab_type": "text"
      },
      "source": [
        "## Now you can run the extractor (and output to Google Drive):"
      ]
    },
    {
      "cell_type": "code",
      "metadata": {
        "id": "9fNaRXF5-IIl",
        "colab_type": "code",
        "colab": {}
      },
      "source": [
        "from google.colab import drive\n",
        "drive.mount('/content/gdrive') # This will ask you to login to your Google account"
      ],
      "execution_count": 0,
      "outputs": []
    },
    {
      "cell_type": "markdown",
      "metadata": {
        "id": "b7YvoGPe-gSN",
        "colab_type": "text"
      },
      "source": [
        "#### Upload the raw_reviews.csv file to Google Drive. I put it in a folder called \"extraction_data\" under the root dir"
      ]
    },
    {
      "cell_type": "code",
      "metadata": {
        "id": "ycwqtiWs-bCR",
        "colab_type": "code",
        "colab": {}
      },
      "source": [
        "!ls \"/content/gdrive/My Drive/extraction_data/\"\n",
        "# this should contain the raw_reviews.csv file"
      ],
      "execution_count": 0,
      "outputs": []
    },
    {
      "cell_type": "code",
      "metadata": {
        "id": "-XmQZU999Kmj",
        "colab_type": "code",
        "colab": {}
      },
      "source": [
        "import json\n",
        "\n",
        "config = {\n",
        "  \"input_dir_path\" : \".\",\n",
        "  \"bert_path\" : \"../../uncased_L-12_H-768_A-12\",\n",
        "  \"tagging_path\" : \"models/tagging/hotel\",\n",
        "  \"pairing_path\" : \"models/pairing/model\",\n",
        "  \"classifier_path\" : \"models/classification/hotel\",\n",
        "  \"output_path\" : \"/content/gdrive/My\\ Drive/extraction_data/london_reviews_with_extractions.json\" # specify the output path\n",
        "}\n",
        "\n",
        "json.dump(config, open('config.json', 'w'))\n",
        "!cp \"/content/gdrive/My Drive/extraction_data/raw_reviews.csv\" .\n",
        "!make clean\n",
        "!make"
      ],
      "execution_count": 0,
      "outputs": []
    },
    {
      "cell_type": "markdown",
      "metadata": {
        "id": "h1pc-RqzYzf4",
        "colab_type": "text"
      },
      "source": [
        "# Section 2: Running the extractor experiments\n",
        "\n",
        "### Repeat the training process 10 times on each dataset. Output the F1 scores to ``*/significance-test.txt``"
      ]
    },
    {
      "cell_type": "code",
      "metadata": {
        "id": "LSqcAjcylfHJ",
        "colab_type": "code",
        "colab": {}
      },
      "source": [
        "%cd /content/opinedb_public/extractor"
      ],
      "execution_count": 0,
      "outputs": []
    },
    {
      "cell_type": "code",
      "metadata": {
        "id": "6bDno0xKZELi",
        "colab_type": "code",
        "colab": {}
      },
      "source": [
        "import os\n",
        "\n",
        "datasets = ['hotel', 'semeval14-laptop', 'semeval14-restaurant', 'semeval15-restaurant']\n",
        "reps = 10\n",
        "\n",
        "\n",
        "for dataset in datasets:\n",
        "  for _ in range(reps):\n",
        "    data_path = 'data/experiments/' + dataset\n",
        "    model_path = 'data/experiments/' + dataset + '_output'\n",
        "    bert_path = '../../uncased_L-12_H-768_A-12'\n",
        "    !mkdir -p $model_path\n",
        "    !python3 code/BERT-BiLSTM-CRF-NER/bert_lstm_ner.py \\\n",
        "      --task_name=NER  \\\n",
        "      --do_train=True   \\\n",
        "      --do_eval=False   \\\n",
        "      --do_predict=True \\\n",
        "      --data_dir=$data_path   \\\n",
        "      --vocab_file=$bert_path/vocab.txt \\\n",
        "      --bert_config_file=$bert_path/bert_config.json \\\n",
        "      --init_checkpoint=$bert_path/bert_model.ckpt \\\n",
        "      --max_seq_length=64   \\\n",
        "      --train_batch_size=32   \\\n",
        "      --learning_rate=2e-5   \\\n",
        "      --num_train_epochs=30.0   \\\n",
        "      --output_dir=$model_path\n",
        "    \n",
        "    !cat $model_path/entity_level_predicted_result.txt >> $model_path/significance-test.txt\n"
      ],
      "execution_count": 0,
      "outputs": []
    }
  ]
}